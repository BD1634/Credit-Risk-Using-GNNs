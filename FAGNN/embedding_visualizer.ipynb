{
 "cells": [
  {
   "cell_type": "code",
   "execution_count": null,
   "id": "865b61f2",
   "metadata": {},
   "outputs": [],
   "source": [
    "import os\n",
    "import torch\n",
    "import numpy as np\n",
    "import matplotlib.pyplot as plt\n",
    "from sklearn.decomposition import PCA"
   ]
  },
  {
   "cell_type": "code",
   "execution_count": null,
   "id": "055c856c",
   "metadata": {},
   "outputs": [],
   "source": [
    "def load_embeddings(epoch, folder=\"node_embeddings\"):\n",
    "    \"\"\"\n",
    "    Loads saved embeddings, SK_ID_CURR values, and cluster labels for a given epoch.\n",
    "\n",
    "    Args:\n",
    "        epoch (int): Epoch number used during saving\n",
    "        folder (str): Folder where intermediate .pt and .npy files are stored\n",
    "\n",
    "    Returns:\n",
    "        torch.Tensor: node embeddings of shape (N, D)\n",
    "        np.ndarray: corresponding SK_ID_CURR values of shape (N,)\n",
    "        np.ndarray: corresponding cluster labels of shape (N,)\n",
    "    \"\"\"\n",
    "    embedding_path = os.path.join(folder, f\"val_embeddings_epoch_{epoch}.pt\")\n",
    "    sk_id_path = os.path.join(folder, f\"val_sk_ids_epoch_{epoch}.npy\")\n",
    "    cluster_path = os.path.join(folder, f\"val_clusters_epoch_{epoch}.npy\")\n",
    "    \n",
    "    embeddings = torch.load(embedding_path, map_location='cpu')\n",
    "    sk_ids = np.load(sk_id_path)\n",
    "    clusters = np.load(cluster_path)\n",
    "\n",
    "    return embeddings, sk_ids, clusters"
   ]
  }
 ],
 "metadata": {
  "language_info": {
   "name": "python"
  }
 },
 "nbformat": 4,
 "nbformat_minor": 5
}
