{
 "cells": [
  {
   "cell_type": "code",
   "execution_count": 1,
   "id": "d5468f4e",
   "metadata": {},
   "outputs": [],
   "source": [
    "%load_ext autoreload\n",
    "%autoreload 1"
   ]
  },
  {
   "cell_type": "code",
   "execution_count": 2,
   "id": "a57f3a03",
   "metadata": {},
   "outputs": [],
   "source": [
    "import os\n",
    "from src.config import opt\n",
    "from src.trainer import training_model_classification\n",
    "from src.data_preprocessing import data_loaded, feature_engineering\n",
    "from src.dataset import data_preprocess, cluster_analysis, data_cluster"
   ]
  },
  {
   "cell_type": "code",
   "execution_count": null,
   "id": "e1719e3c",
   "metadata": {},
   "outputs": [],
   "source": [
    "os.makedirs(opt.data_load_path, exist_ok=True)\n",
    "\n",
    "apps, prev, bureau, bureau_bal, pos_bal, install, card_bal = data_loaded()\n",
    "data_all = feature_engineering(apps, prev, bureau, bureau_bal, pos_bal, install, card_bal)\n",
    "data_all, val_cols, emb_cols, bag_size = data_preprocess(data_all)\n",
    "selected_attrs = cluster_analysis(data_all, opt.theta_m, opt.theta_u)\n",
    "clusters = data_cluster(data_all, selected_attrs)"
   ]
  },
  {
   "cell_type": "code",
   "execution_count": null,
   "id": "efa57153",
   "metadata": {},
   "outputs": [],
   "source": [
    "# Now just pass None instead of file handle\n",
    "best_auc = training_model_classification(data_all, clusters, val_cols, emb_cols, bag_size, f=None)\n",
    "print(f\"\\nBest Validation AUC: {best_auc}\")"
   ]
  }
 ],
 "metadata": {
  "kernelspec": {
   "display_name": "credit_risk",
   "language": "python",
   "name": "python3"
  },
  "language_info": {
   "codemirror_mode": {
    "name": "ipython",
    "version": 3
   },
   "file_extension": ".py",
   "mimetype": "text/x-python",
   "name": "python",
   "nbconvert_exporter": "python",
   "pygments_lexer": "ipython3",
   "version": "3.10.16"
  }
 },
 "nbformat": 4,
 "nbformat_minor": 5
}
